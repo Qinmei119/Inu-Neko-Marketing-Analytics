{
 "cells": [
  {
   "cell_type": "markdown",
   "id": "f389e912",
   "metadata": {},
   "source": [
    "# Inu + Neko Marketing Analytics Case Study"
   ]
  },
  {
   "cell_type": "markdown",
   "id": "f1ace3e4",
   "metadata": {},
   "source": [
    "![](inu_neko_logo_small.png)"
   ]
  },
  {
   "cell_type": "markdown",
   "id": "f5248755",
   "metadata": {},
   "source": [
    "Inu + Neko is a Dog & Cat supply and services company located in New York City and just started its e-commerce business. As a marketing analyst, my job is to analyze their online marketing data and help them drive their business in the future."
   ]
  },
  {
   "cell_type": "code",
   "execution_count": 20,
   "id": "a61b0d71",
   "metadata": {},
   "outputs": [],
   "source": [
    "import pandas as pd"
   ]
  },
  {
   "cell_type": "code",
   "execution_count": 21,
   "id": "f58af1fe",
   "metadata": {},
   "outputs": [],
   "source": [
    "df=pd.read_csv('inu_neko_orderline.csv')"
   ]
  },
  {
   "cell_type": "code",
   "execution_count": 22,
   "id": "2fa5f1d4",
   "metadata": {},
   "outputs": [
    {
     "data": {
      "text/html": [
       "<div>\n",
       "<style scoped>\n",
       "    .dataframe tbody tr th:only-of-type {\n",
       "        vertical-align: middle;\n",
       "    }\n",
       "\n",
       "    .dataframe tbody tr th {\n",
       "        vertical-align: top;\n",
       "    }\n",
       "\n",
       "    .dataframe thead th {\n",
       "        text-align: right;\n",
       "    }\n",
       "</style>\n",
       "<table border=\"1\" class=\"dataframe\">\n",
       "  <thead>\n",
       "    <tr style=\"text-align: right;\">\n",
       "      <th></th>\n",
       "      <th>trans_id</th>\n",
       "      <th>prod_upc</th>\n",
       "      <th>cust_id</th>\n",
       "      <th>trans_timestamp</th>\n",
       "      <th>trans_year</th>\n",
       "      <th>trans_month</th>\n",
       "      <th>trans_day</th>\n",
       "      <th>trans_hour</th>\n",
       "      <th>trans_quantity</th>\n",
       "      <th>cust_age</th>\n",
       "      <th>cust_state</th>\n",
       "      <th>prod_price</th>\n",
       "      <th>prod_title</th>\n",
       "      <th>prod_category</th>\n",
       "      <th>prod_animal_type</th>\n",
       "      <th>prod_size</th>\n",
       "      <th>total_sales</th>\n",
       "    </tr>\n",
       "  </thead>\n",
       "  <tbody>\n",
       "    <tr>\n",
       "      <th>0</th>\n",
       "      <td>10300097</td>\n",
       "      <td>719638485153</td>\n",
       "      <td>1001019</td>\n",
       "      <td>2021-01-01 07:35:21.439873</td>\n",
       "      <td>2021</td>\n",
       "      <td>1</td>\n",
       "      <td>1</td>\n",
       "      <td>1</td>\n",
       "      <td>1</td>\n",
       "      <td>20</td>\n",
       "      <td>NY</td>\n",
       "      <td>72.99</td>\n",
       "      <td>Cat Cave</td>\n",
       "      <td>bedding</td>\n",
       "      <td>cat</td>\n",
       "      <td>NaN</td>\n",
       "      <td>0</td>\n",
       "    </tr>\n",
       "    <tr>\n",
       "      <th>1</th>\n",
       "      <td>10300093</td>\n",
       "      <td>73201504044</td>\n",
       "      <td>1001015</td>\n",
       "      <td>2021-01-01 09:33:37.499660</td>\n",
       "      <td>2021</td>\n",
       "      <td>1</td>\n",
       "      <td>1</td>\n",
       "      <td>1</td>\n",
       "      <td>1</td>\n",
       "      <td>34</td>\n",
       "      <td>NY</td>\n",
       "      <td>18.95</td>\n",
       "      <td>Purrfect Puree</td>\n",
       "      <td>treat</td>\n",
       "      <td>cat</td>\n",
       "      <td>NaN</td>\n",
       "      <td>0</td>\n",
       "    </tr>\n",
       "    <tr>\n",
       "      <th>2</th>\n",
       "      <td>10300093</td>\n",
       "      <td>719638485153</td>\n",
       "      <td>1001015</td>\n",
       "      <td>2021-01-01 09:33:37.499660</td>\n",
       "      <td>2021</td>\n",
       "      <td>1</td>\n",
       "      <td>1</td>\n",
       "      <td>1</td>\n",
       "      <td>1</td>\n",
       "      <td>34</td>\n",
       "      <td>NY</td>\n",
       "      <td>72.99</td>\n",
       "      <td>Cat Cave</td>\n",
       "      <td>bedding</td>\n",
       "      <td>cat</td>\n",
       "      <td>NaN</td>\n",
       "      <td>0</td>\n",
       "    </tr>\n",
       "    <tr>\n",
       "      <th>3</th>\n",
       "      <td>10300093</td>\n",
       "      <td>441530839394</td>\n",
       "      <td>1001015</td>\n",
       "      <td>2021-01-01 09:33:37.499660</td>\n",
       "      <td>2021</td>\n",
       "      <td>1</td>\n",
       "      <td>1</td>\n",
       "      <td>1</td>\n",
       "      <td>2</td>\n",
       "      <td>34</td>\n",
       "      <td>NY</td>\n",
       "      <td>28.45</td>\n",
       "      <td>Ball and String</td>\n",
       "      <td>toy</td>\n",
       "      <td>cat</td>\n",
       "      <td>NaN</td>\n",
       "      <td>0</td>\n",
       "    </tr>\n",
       "    <tr>\n",
       "      <th>4</th>\n",
       "      <td>10300093</td>\n",
       "      <td>733426809698</td>\n",
       "      <td>1001015</td>\n",
       "      <td>2021-01-01 09:33:37.499660</td>\n",
       "      <td>2021</td>\n",
       "      <td>1</td>\n",
       "      <td>1</td>\n",
       "      <td>1</td>\n",
       "      <td>1</td>\n",
       "      <td>34</td>\n",
       "      <td>NY</td>\n",
       "      <td>18.95</td>\n",
       "      <td>Yum Fish-Dish</td>\n",
       "      <td>food</td>\n",
       "      <td>cat</td>\n",
       "      <td>NaN</td>\n",
       "      <td>0</td>\n",
       "    </tr>\n",
       "  </tbody>\n",
       "</table>\n",
       "</div>"
      ],
      "text/plain": [
       "   trans_id      prod_upc  cust_id             trans_timestamp  trans_year  \\\n",
       "0  10300097  719638485153  1001019  2021-01-01 07:35:21.439873        2021   \n",
       "1  10300093   73201504044  1001015  2021-01-01 09:33:37.499660        2021   \n",
       "2  10300093  719638485153  1001015  2021-01-01 09:33:37.499660        2021   \n",
       "3  10300093  441530839394  1001015  2021-01-01 09:33:37.499660        2021   \n",
       "4  10300093  733426809698  1001015  2021-01-01 09:33:37.499660        2021   \n",
       "\n",
       "   trans_month  trans_day  trans_hour  trans_quantity  cust_age cust_state  \\\n",
       "0            1          1           1               1        20         NY   \n",
       "1            1          1           1               1        34         NY   \n",
       "2            1          1           1               1        34         NY   \n",
       "3            1          1           1               2        34         NY   \n",
       "4            1          1           1               1        34         NY   \n",
       "\n",
       "   prod_price       prod_title prod_category prod_animal_type prod_size  \\\n",
       "0       72.99         Cat Cave       bedding              cat       NaN   \n",
       "1       18.95   Purrfect Puree         treat              cat       NaN   \n",
       "2       72.99         Cat Cave       bedding              cat       NaN   \n",
       "3       28.45  Ball and String           toy              cat       NaN   \n",
       "4       18.95    Yum Fish-Dish          food              cat       NaN   \n",
       "\n",
       "   total_sales  \n",
       "0            0  \n",
       "1            0  \n",
       "2            0  \n",
       "3            0  \n",
       "4            0  "
      ]
     },
     "execution_count": 22,
     "metadata": {},
     "output_type": "execute_result"
    }
   ],
   "source": [
    "df.head()"
   ]
  },
  {
   "cell_type": "code",
   "execution_count": 23,
   "id": "ff1f4f56",
   "metadata": {},
   "outputs": [
    {
     "name": "stdout",
     "output_type": "stream",
     "text": [
      "<class 'pandas.core.frame.DataFrame'>\n",
      "RangeIndex: 38624 entries, 0 to 38623\n",
      "Data columns (total 17 columns):\n",
      " #   Column            Non-Null Count  Dtype  \n",
      "---  ------            --------------  -----  \n",
      " 0   trans_id          38624 non-null  int64  \n",
      " 1   prod_upc          38624 non-null  int64  \n",
      " 2   cust_id           38624 non-null  int64  \n",
      " 3   trans_timestamp   38624 non-null  object \n",
      " 4   trans_year        38624 non-null  int64  \n",
      " 5   trans_month       38624 non-null  int64  \n",
      " 6   trans_day         38624 non-null  int64  \n",
      " 7   trans_hour        38624 non-null  int64  \n",
      " 8   trans_quantity    38624 non-null  int64  \n",
      " 9   cust_age          38624 non-null  int64  \n",
      " 10  cust_state        38624 non-null  object \n",
      " 11  prod_price        38624 non-null  float64\n",
      " 12  prod_title        38624 non-null  object \n",
      " 13  prod_category     38624 non-null  object \n",
      " 14  prod_animal_type  38624 non-null  object \n",
      " 15  prod_size         7456 non-null   object \n",
      " 16  total_sales       38624 non-null  int64  \n",
      "dtypes: float64(1), int64(10), object(6)\n",
      "memory usage: 5.0+ MB\n"
     ]
    }
   ],
   "source": [
    "df.info()"
   ]
  },
  {
   "cell_type": "markdown",
   "id": "98130a0e",
   "metadata": {},
   "source": [
    "## Check for outliers"
   ]
  },
  {
   "cell_type": "code",
   "execution_count": 24,
   "id": "e788d01d",
   "metadata": {},
   "outputs": [],
   "source": [
    "import matplotlib.pyplot as plt"
   ]
  },
  {
   "cell_type": "code",
   "execution_count": 25,
   "id": "da220e8d",
   "metadata": {},
   "outputs": [
    {
     "data": {
      "image/png": "[encoded data removed]",
      "text/plain": [
       "<Figure size 1080x720 with 12 Axes>"
      ]
     },
     "metadata": {
      "needs_background": "light"
     },
     "output_type": "display_data"
    }
   ],
   "source": [
    "df.hist(grid=False,figsize=(15,10))\n",
    "plt.show()"
   ]
  },
  {
   "cell_type": "markdown",
   "id": "a96207ce",
   "metadata": {},
   "source": [
    "As we can see from the picture, the column 'prod_price', 'cust_age','trans_quantity' may contain some outliers. Let's dive deeper in these columns."
   ]
  },
  {
   "cell_type": "code",
   "execution_count": 26,
   "id": "f6578461",
   "metadata": {},
   "outputs": [
    {
     "data": {
      "text/plain": [
       "array([    20,     34,     26,     24,     27,     35,     29,     28,\n",
       "           19,     32,     31,     21,     23,     37,     39, 999999,\n",
       "           51,     42,     25,     36,     30,     22,     38,     45,\n",
       "           47,     46,     49,     33,     48,     44,     41,     40,\n",
       "           43,     64,     50,     52,     53,     57,     56,     54,\n",
       "           59,     60,     69,     61,     65,     55,     62,     18,\n",
       "           67,     58,     63,     79,     71])"
      ]
     },
     "execution_count": 26,
     "metadata": {},
     "output_type": "execute_result"
    }
   ],
   "source": [
    "df['cust_age'].unique()"
   ]
  },
  {
   "cell_type": "code",
   "execution_count": 27,
   "id": "01294c01",
   "metadata": {},
   "outputs": [
    {
     "data": {
      "text/plain": [
       "array([7.29900e+01, 1.89500e+01, 2.84500e+01, 2.49500e+01, 6.09900e+01,\n",
       "       6.59900e+01, 9.95000e+00, 1.09700e+01, 4.59900e+01, 3.59900e+01,\n",
       "       3.29900e+01, 5.49500e+01, 1.99900e+01, 1.29900e+01, 2.19500e+01,\n",
       "       1.09900e+01, 2.29900e+01, 3.59800e+01, 9.99999e+05, 4.89500e+01,\n",
       "       1.29700e+01, 1.59900e+01])"
      ]
     },
     "execution_count": 27,
     "metadata": {},
     "output_type": "execute_result"
    }
   ],
   "source": [
    "df['prod_price'].unique()"
   ]
  },
  {
   "cell_type": "code",
   "execution_count": 28,
   "id": "0ad60d54",
   "metadata": {},
   "outputs": [
    {
     "data": {
      "text/plain": [
       "array([     1,      2,      3, 999999,      5,      4,      6,      7,\n",
       "            8])"
      ]
     },
     "execution_count": 28,
     "metadata": {},
     "output_type": "execute_result"
    }
   ],
   "source": [
    "df['trans_quantity'].unique()"
   ]
  },
  {
   "cell_type": "code",
   "execution_count": 29,
   "id": "f0bf537f",
   "metadata": {},
   "outputs": [],
   "source": [
    "df_clean=df[df['cust_age']!=999999]"
   ]
  },
  {
   "cell_type": "code",
   "execution_count": 30,
   "id": "c9ef3b1e",
   "metadata": {},
   "outputs": [
    {
     "data": {
      "text/plain": [
       "array([72.99, 18.95, 28.45, 24.95, 60.99, 65.99,  9.95, 10.97, 45.99,\n",
       "       35.99, 32.99, 54.95, 19.99, 12.99, 21.95, 10.99, 22.99, 35.98,\n",
       "       48.95, 12.97, 15.99])"
      ]
     },
     "execution_count": 30,
     "metadata": {},
     "output_type": "execute_result"
    }
   ],
   "source": [
    "df_clean['prod_price'].unique()"
   ]
  },
  {
   "cell_type": "code",
   "execution_count": 31,
   "id": "7f0c219a",
   "metadata": {},
   "outputs": [
    {
     "data": {
      "text/plain": [
       "array([1, 2, 3, 5, 4, 6, 7, 8])"
      ]
     },
     "execution_count": 31,
     "metadata": {},
     "output_type": "execute_result"
    }
   ],
   "source": [
    "df_clean['trans_quantity'].unique()"
   ]
  },
  {
   "cell_type": "markdown",
   "id": "4810f19b",
   "metadata": {},
   "source": [
    "As we can see now, all outliers have been removed."
   ]
  },
  {
   "cell_type": "markdown",
   "id": "37837879",
   "metadata": {},
   "source": [
    "## Check for duplicate records\n"
   ]
  },
  {
   "cell_type": "code",
   "execution_count": 32,
   "id": "6599418d",
   "metadata": {},
   "outputs": [
    {
     "data": {
      "text/plain": [
       "False    38223\n",
       "True       400\n",
       "dtype: int64"
      ]
     },
     "execution_count": 32,
     "metadata": {},
     "output_type": "execute_result"
    }
   ],
   "source": [
    "df_clean.duplicated().value_counts()"
   ]
  },
  {
   "cell_type": "markdown",
   "id": "0f301f42",
   "metadata": {},
   "source": [
    "There are 400 duplicated records."
   ]
  },
  {
   "cell_type": "code",
   "execution_count": 33,
   "id": "ddb62e2e",
   "metadata": {},
   "outputs": [],
   "source": [
    "df_clean=df_clean[~df_clean.duplicated()]"
   ]
  },
  {
   "cell_type": "code",
   "execution_count": 34,
   "id": "115fa0ba",
   "metadata": {},
   "outputs": [
    {
     "data": {
      "text/html": [
       "<div>\n",
       "<style scoped>\n",
       "    .dataframe tbody tr th:only-of-type {\n",
       "        vertical-align: middle;\n",
       "    }\n",
       "\n",
       "    .dataframe tbody tr th {\n",
       "        vertical-align: top;\n",
       "    }\n",
       "\n",
       "    .dataframe thead th {\n",
       "        text-align: right;\n",
       "    }\n",
       "</style>\n",
       "<table border=\"1\" class=\"dataframe\">\n",
       "  <thead>\n",
       "    <tr style=\"text-align: right;\">\n",
       "      <th></th>\n",
       "      <th>trans_id</th>\n",
       "      <th>prod_upc</th>\n",
       "      <th>cust_id</th>\n",
       "      <th>trans_timestamp</th>\n",
       "      <th>trans_year</th>\n",
       "      <th>trans_month</th>\n",
       "      <th>trans_day</th>\n",
       "      <th>trans_hour</th>\n",
       "      <th>trans_quantity</th>\n",
       "      <th>cust_age</th>\n",
       "      <th>cust_state</th>\n",
       "      <th>prod_price</th>\n",
       "      <th>prod_title</th>\n",
       "      <th>prod_category</th>\n",
       "      <th>prod_animal_type</th>\n",
       "      <th>prod_size</th>\n",
       "      <th>total_sales</th>\n",
       "    </tr>\n",
       "  </thead>\n",
       "  <tbody>\n",
       "    <tr>\n",
       "      <th>0</th>\n",
       "      <td>10300097</td>\n",
       "      <td>719638485153</td>\n",
       "      <td>1001019</td>\n",
       "      <td>2021-01-01 07:35:21.439873</td>\n",
       "      <td>2021</td>\n",
       "      <td>1</td>\n",
       "      <td>1</td>\n",
       "      <td>1</td>\n",
       "      <td>1</td>\n",
       "      <td>20</td>\n",
       "      <td>NY</td>\n",
       "      <td>72.99</td>\n",
       "      <td>Cat Cave</td>\n",
       "      <td>bedding</td>\n",
       "      <td>cat</td>\n",
       "      <td>NaN</td>\n",
       "      <td>0</td>\n",
       "    </tr>\n",
       "    <tr>\n",
       "      <th>1</th>\n",
       "      <td>10300093</td>\n",
       "      <td>73201504044</td>\n",
       "      <td>1001015</td>\n",
       "      <td>2021-01-01 09:33:37.499660</td>\n",
       "      <td>2021</td>\n",
       "      <td>1</td>\n",
       "      <td>1</td>\n",
       "      <td>1</td>\n",
       "      <td>1</td>\n",
       "      <td>34</td>\n",
       "      <td>NY</td>\n",
       "      <td>18.95</td>\n",
       "      <td>Purrfect Puree</td>\n",
       "      <td>treat</td>\n",
       "      <td>cat</td>\n",
       "      <td>NaN</td>\n",
       "      <td>0</td>\n",
       "    </tr>\n",
       "    <tr>\n",
       "      <th>2</th>\n",
       "      <td>10300093</td>\n",
       "      <td>719638485153</td>\n",
       "      <td>1001015</td>\n",
       "      <td>2021-01-01 09:33:37.499660</td>\n",
       "      <td>2021</td>\n",
       "      <td>1</td>\n",
       "      <td>1</td>\n",
       "      <td>1</td>\n",
       "      <td>1</td>\n",
       "      <td>34</td>\n",
       "      <td>NY</td>\n",
       "      <td>72.99</td>\n",
       "      <td>Cat Cave</td>\n",
       "      <td>bedding</td>\n",
       "      <td>cat</td>\n",
       "      <td>NaN</td>\n",
       "      <td>0</td>\n",
       "    </tr>\n",
       "    <tr>\n",
       "      <th>3</th>\n",
       "      <td>10300093</td>\n",
       "      <td>441530839394</td>\n",
       "      <td>1001015</td>\n",
       "      <td>2021-01-01 09:33:37.499660</td>\n",
       "      <td>2021</td>\n",
       "      <td>1</td>\n",
       "      <td>1</td>\n",
       "      <td>1</td>\n",
       "      <td>2</td>\n",
       "      <td>34</td>\n",
       "      <td>NY</td>\n",
       "      <td>28.45</td>\n",
       "      <td>Ball and String</td>\n",
       "      <td>toy</td>\n",
       "      <td>cat</td>\n",
       "      <td>NaN</td>\n",
       "      <td>0</td>\n",
       "    </tr>\n",
       "    <tr>\n",
       "      <th>4</th>\n",
       "      <td>10300093</td>\n",
       "      <td>733426809698</td>\n",
       "      <td>1001015</td>\n",
       "      <td>2021-01-01 09:33:37.499660</td>\n",
       "      <td>2021</td>\n",
       "      <td>1</td>\n",
       "      <td>1</td>\n",
       "      <td>1</td>\n",
       "      <td>1</td>\n",
       "      <td>34</td>\n",
       "      <td>NY</td>\n",
       "      <td>18.95</td>\n",
       "      <td>Yum Fish-Dish</td>\n",
       "      <td>food</td>\n",
       "      <td>cat</td>\n",
       "      <td>NaN</td>\n",
       "      <td>0</td>\n",
       "    </tr>\n",
       "    <tr>\n",
       "      <th>...</th>\n",
       "      <td>...</td>\n",
       "      <td>...</td>\n",
       "      <td>...</td>\n",
       "      <td>...</td>\n",
       "      <td>...</td>\n",
       "      <td>...</td>\n",
       "      <td>...</td>\n",
       "      <td>...</td>\n",
       "      <td>...</td>\n",
       "      <td>...</td>\n",
       "      <td>...</td>\n",
       "      <td>...</td>\n",
       "      <td>...</td>\n",
       "      <td>...</td>\n",
       "      <td>...</td>\n",
       "      <td>...</td>\n",
       "      <td>...</td>\n",
       "    </tr>\n",
       "    <tr>\n",
       "      <th>38619</th>\n",
       "      <td>10327860</td>\n",
       "      <td>287663658863</td>\n",
       "      <td>1022098</td>\n",
       "      <td>2021-06-30 15:37:12.821020</td>\n",
       "      <td>2021</td>\n",
       "      <td>6</td>\n",
       "      <td>30</td>\n",
       "      <td>30</td>\n",
       "      <td>1</td>\n",
       "      <td>25</td>\n",
       "      <td>New York</td>\n",
       "      <td>9.95</td>\n",
       "      <td>All Veggie Yummies</td>\n",
       "      <td>treat</td>\n",
       "      <td>dog</td>\n",
       "      <td>NaN</td>\n",
       "      <td>0</td>\n",
       "    </tr>\n",
       "    <tr>\n",
       "      <th>38620</th>\n",
       "      <td>10327960</td>\n",
       "      <td>140160459467</td>\n",
       "      <td>1022157</td>\n",
       "      <td>2021-06-30 15:45:09.872732</td>\n",
       "      <td>2021</td>\n",
       "      <td>6</td>\n",
       "      <td>30</td>\n",
       "      <td>30</td>\n",
       "      <td>2</td>\n",
       "      <td>31</td>\n",
       "      <td>Pennsylvania</td>\n",
       "      <td>48.95</td>\n",
       "      <td>Snoozer Essentails</td>\n",
       "      <td>bedding</td>\n",
       "      <td>dog</td>\n",
       "      <td>NaN</td>\n",
       "      <td>0</td>\n",
       "    </tr>\n",
       "    <tr>\n",
       "      <th>38621</th>\n",
       "      <td>10328009</td>\n",
       "      <td>425361189561</td>\n",
       "      <td>1022189</td>\n",
       "      <td>2021-06-30 15:57:44.295104</td>\n",
       "      <td>2021</td>\n",
       "      <td>6</td>\n",
       "      <td>30</td>\n",
       "      <td>30</td>\n",
       "      <td>2</td>\n",
       "      <td>53</td>\n",
       "      <td>New Jersey</td>\n",
       "      <td>15.99</td>\n",
       "      <td>Snack-em Fish</td>\n",
       "      <td>treat</td>\n",
       "      <td>cat</td>\n",
       "      <td>NaN</td>\n",
       "      <td>0</td>\n",
       "    </tr>\n",
       "    <tr>\n",
       "      <th>38622</th>\n",
       "      <td>10328089</td>\n",
       "      <td>733426809698</td>\n",
       "      <td>1022236</td>\n",
       "      <td>2021-06-30 15:59:29.801593</td>\n",
       "      <td>2021</td>\n",
       "      <td>6</td>\n",
       "      <td>30</td>\n",
       "      <td>30</td>\n",
       "      <td>1</td>\n",
       "      <td>23</td>\n",
       "      <td>Tennessee</td>\n",
       "      <td>18.95</td>\n",
       "      <td>Yum Fish-Dish</td>\n",
       "      <td>food</td>\n",
       "      <td>cat</td>\n",
       "      <td>NaN</td>\n",
       "      <td>0</td>\n",
       "    </tr>\n",
       "    <tr>\n",
       "      <th>38623</th>\n",
       "      <td>10328109</td>\n",
       "      <td>717036112695</td>\n",
       "      <td>1011924</td>\n",
       "      <td>2021-06-30 17:30:52.205912</td>\n",
       "      <td>2021</td>\n",
       "      <td>6</td>\n",
       "      <td>30</td>\n",
       "      <td>30</td>\n",
       "      <td>1</td>\n",
       "      <td>24</td>\n",
       "      <td>Pennsylvania</td>\n",
       "      <td>60.99</td>\n",
       "      <td>Reddy Beddy</td>\n",
       "      <td>bedding</td>\n",
       "      <td>dog</td>\n",
       "      <td>medium</td>\n",
       "      <td>0</td>\n",
       "    </tr>\n",
       "  </tbody>\n",
       "</table>\n",
       "<p>38223 rows × 17 columns</p>\n",
       "</div>"
      ],
      "text/plain": [
       "       trans_id      prod_upc  cust_id             trans_timestamp  \\\n",
       "0      10300097  719638485153  1001019  2021-01-01 07:35:21.439873   \n",
       "1      10300093   73201504044  1001015  2021-01-01 09:33:37.499660   \n",
       "2      10300093  719638485153  1001015  2021-01-01 09:33:37.499660   \n",
       "3      10300093  441530839394  1001015  2021-01-01 09:33:37.499660   \n",
       "4      10300093  733426809698  1001015  2021-01-01 09:33:37.499660   \n",
       "...         ...           ...      ...                         ...   \n",
       "38619  10327860  287663658863  1022098  2021-06-30 15:37:12.821020   \n",
       "38620  10327960  140160459467  1022157  2021-06-30 15:45:09.872732   \n",
       "38621  10328009  425361189561  1022189  2021-06-30 15:57:44.295104   \n",
       "38622  10328089  733426809698  1022236  2021-06-30 15:59:29.801593   \n",
       "38623  10328109  717036112695  1011924  2021-06-30 17:30:52.205912   \n",
       "\n",
       "       trans_year  trans_month  trans_day  trans_hour  trans_quantity  \\\n",
       "0            2021            1          1           1               1   \n",
       "1            2021            1          1           1               1   \n",
       "2            2021            1          1           1               1   \n",
       "3            2021            1          1           1               2   \n",
       "4            2021            1          1           1               1   \n",
       "...           ...          ...        ...         ...             ...   \n",
       "38619        2021            6         30          30               1   \n",
       "38620        2021            6         30          30               2   \n",
       "38621        2021            6         30          30               2   \n",
       "38622        2021            6         30          30               1   \n",
       "38623        2021            6         30          30               1   \n",
       "\n",
       "       cust_age    cust_state  prod_price          prod_title prod_category  \\\n",
       "0            20            NY       72.99            Cat Cave       bedding   \n",
       "1            34            NY       18.95      Purrfect Puree         treat   \n",
       "2            34            NY       72.99            Cat Cave       bedding   \n",
       "3            34            NY       28.45     Ball and String           toy   \n",
       "4            34            NY       18.95       Yum Fish-Dish          food   \n",
       "...         ...           ...         ...                 ...           ...   \n",
       "38619        25      New York        9.95  All Veggie Yummies         treat   \n",
       "38620        31  Pennsylvania       48.95  Snoozer Essentails       bedding   \n",
       "38621        53    New Jersey       15.99       Snack-em Fish         treat   \n",
       "38622        23     Tennessee       18.95       Yum Fish-Dish          food   \n",
       "38623        24  Pennsylvania       60.99         Reddy Beddy       bedding   \n",
       "\n",
       "      prod_animal_type prod_size  total_sales  \n",
       "0                  cat       NaN            0  \n",
       "1                  cat       NaN            0  \n",
       "2                  cat       NaN            0  \n",
       "3                  cat       NaN            0  \n",
       "4                  cat       NaN            0  \n",
       "...                ...       ...          ...  \n",
       "38619              dog       NaN            0  \n",
       "38620              dog       NaN            0  \n",
       "38621              cat       NaN            0  \n",
       "38622              cat       NaN            0  \n",
       "38623              dog    medium            0  \n",
       "\n",
       "[38223 rows x 17 columns]"
      ]
     },
     "execution_count": 34,
     "metadata": {},
     "output_type": "execute_result"
    }
   ],
   "source": [
    "df_clean"
   ]
  },
  {
   "cell_type": "code",
   "execution_count": 35,
   "id": "f314affe",
   "metadata": {},
   "outputs": [
    {
     "data": {
      "text/plain": [
       "False    38223\n",
       "dtype: int64"
      ]
     },
     "execution_count": 35,
     "metadata": {},
     "output_type": "execute_result"
    }
   ],
   "source": [
    "df_clean.duplicated().value_counts()"
   ]
  },
  {
   "cell_type": "markdown",
   "id": "1f2d4427",
   "metadata": {},
   "source": [
    "All the duplicated records have been removed."
   ]
  },
  {
   "cell_type": "markdown",
   "id": "be3ae9da",
   "metadata": {},
   "source": [
    "## Keep data in consistent format"
   ]
  },
  {
   "cell_type": "code",
   "execution_count": 36,
   "id": "547eaa1c",
   "metadata": {},
   "outputs": [
    {
     "data": {
      "text/plain": [
       "array(['NY', 'NJ', 'PA', 'CT', 'Pennsylvania', 'South Carolina',\n",
       "       'New York', 'Michigan', 'Connecticut', 'Georgia', 'Arizona',\n",
       "       'Alabama', 'Ohio', 'New Jersey', 'Florida', 'Maryland', 'Texas',\n",
       "       'California', 'Hawaii', 'Oklahoma', 'New Mexico', 'Indiana',\n",
       "       'Colorado', 'North Carolina', 'Tennessee', 'Washington', 'Oregon',\n",
       "       'Louisiana', 'Illinois', 'Utah', 'Vermont', 'Minnesota', 'Nevada',\n",
       "       'Virginia', 'West Virginia', 'Idaho', 'Montana', 'Wyoming',\n",
       "       'Arkansas', 'Massachusetts', 'Missouri', 'Kansas', 'Nebraska',\n",
       "       'Wisconsin', 'North Dakota', 'Mississippi', 'Kentucky',\n",
       "       'District of Columbia', 'Alaska', 'Rhode Island', 'Maine',\n",
       "       'Delaware', 'South Dakota', 'Iowa', 'New Hampshire'], dtype=object)"
      ]
     },
     "execution_count": 36,
     "metadata": {},
     "output_type": "execute_result"
    }
   ],
   "source": [
    "df_clean['cust_state'].unique()"
   ]
  },
  {
   "cell_type": "code",
   "execution_count": 37,
   "id": "873995b6",
   "metadata": {},
   "outputs": [],
   "source": [
    "df_clean=df_clean.copy()\n",
    "df_clean['cust_state']=df_clean['cust_state'].str.replace('NY','New York').str.replace('NJ','New Jersey').str.replace('PA','Pennsylvania').str.replace('CT','Connecticut')"
   ]
  },
  {
   "cell_type": "code",
   "execution_count": 38,
   "id": "bc34eb3d",
   "metadata": {},
   "outputs": [
    {
     "data": {
      "text/html": [
       "<div>\n",
       "<style scoped>\n",
       "    .dataframe tbody tr th:only-of-type {\n",
       "        vertical-align: middle;\n",
       "    }\n",
       "\n",
       "    .dataframe tbody tr th {\n",
       "        vertical-align: top;\n",
       "    }\n",
       "\n",
       "    .dataframe thead th {\n",
       "        text-align: right;\n",
       "    }\n",
       "</style>\n",
       "<table border=\"1\" class=\"dataframe\">\n",
       "  <thead>\n",
       "    <tr style=\"text-align: right;\">\n",
       "      <th></th>\n",
       "      <th>trans_id</th>\n",
       "      <th>prod_upc</th>\n",
       "      <th>cust_id</th>\n",
       "      <th>trans_timestamp</th>\n",
       "      <th>trans_year</th>\n",
       "      <th>trans_month</th>\n",
       "      <th>trans_day</th>\n",
       "      <th>trans_hour</th>\n",
       "      <th>trans_quantity</th>\n",
       "      <th>cust_age</th>\n",
       "      <th>cust_state</th>\n",
       "      <th>prod_price</th>\n",
       "      <th>prod_title</th>\n",
       "      <th>prod_category</th>\n",
       "      <th>prod_animal_type</th>\n",
       "      <th>prod_size</th>\n",
       "      <th>total_sales</th>\n",
       "    </tr>\n",
       "  </thead>\n",
       "  <tbody>\n",
       "    <tr>\n",
       "      <th>0</th>\n",
       "      <td>10300097</td>\n",
       "      <td>719638485153</td>\n",
       "      <td>1001019</td>\n",
       "      <td>2021-01-01 07:35:21.439873</td>\n",
       "      <td>2021</td>\n",
       "      <td>1</td>\n",
       "      <td>1</td>\n",
       "      <td>1</td>\n",
       "      <td>1</td>\n",
       "      <td>20</td>\n",
       "      <td>New York</td>\n",
       "      <td>72.99</td>\n",
       "      <td>Cat Cave</td>\n",
       "      <td>bedding</td>\n",
       "      <td>cat</td>\n",
       "      <td>NaN</td>\n",
       "      <td>0</td>\n",
       "    </tr>\n",
       "    <tr>\n",
       "      <th>1</th>\n",
       "      <td>10300093</td>\n",
       "      <td>73201504044</td>\n",
       "      <td>1001015</td>\n",
       "      <td>2021-01-01 09:33:37.499660</td>\n",
       "      <td>2021</td>\n",
       "      <td>1</td>\n",
       "      <td>1</td>\n",
       "      <td>1</td>\n",
       "      <td>1</td>\n",
       "      <td>34</td>\n",
       "      <td>New York</td>\n",
       "      <td>18.95</td>\n",
       "      <td>Purrfect Puree</td>\n",
       "      <td>treat</td>\n",
       "      <td>cat</td>\n",
       "      <td>NaN</td>\n",
       "      <td>0</td>\n",
       "    </tr>\n",
       "    <tr>\n",
       "      <th>2</th>\n",
       "      <td>10300093</td>\n",
       "      <td>719638485153</td>\n",
       "      <td>1001015</td>\n",
       "      <td>2021-01-01 09:33:37.499660</td>\n",
       "      <td>2021</td>\n",
       "      <td>1</td>\n",
       "      <td>1</td>\n",
       "      <td>1</td>\n",
       "      <td>1</td>\n",
       "      <td>34</td>\n",
       "      <td>New York</td>\n",
       "      <td>72.99</td>\n",
       "      <td>Cat Cave</td>\n",
       "      <td>bedding</td>\n",
       "      <td>cat</td>\n",
       "      <td>NaN</td>\n",
       "      <td>0</td>\n",
       "    </tr>\n",
       "    <tr>\n",
       "      <th>3</th>\n",
       "      <td>10300093</td>\n",
       "      <td>441530839394</td>\n",
       "      <td>1001015</td>\n",
       "      <td>2021-01-01 09:33:37.499660</td>\n",
       "      <td>2021</td>\n",
       "      <td>1</td>\n",
       "      <td>1</td>\n",
       "      <td>1</td>\n",
       "      <td>2</td>\n",
       "      <td>34</td>\n",
       "      <td>New York</td>\n",
       "      <td>28.45</td>\n",
       "      <td>Ball and String</td>\n",
       "      <td>toy</td>\n",
       "      <td>cat</td>\n",
       "      <td>NaN</td>\n",
       "      <td>0</td>\n",
       "    </tr>\n",
       "    <tr>\n",
       "      <th>4</th>\n",
       "      <td>10300093</td>\n",
       "      <td>733426809698</td>\n",
       "      <td>1001015</td>\n",
       "      <td>2021-01-01 09:33:37.499660</td>\n",
       "      <td>2021</td>\n",
       "      <td>1</td>\n",
       "      <td>1</td>\n",
       "      <td>1</td>\n",
       "      <td>1</td>\n",
       "      <td>34</td>\n",
       "      <td>New York</td>\n",
       "      <td>18.95</td>\n",
       "      <td>Yum Fish-Dish</td>\n",
       "      <td>food</td>\n",
       "      <td>cat</td>\n",
       "      <td>NaN</td>\n",
       "      <td>0</td>\n",
       "    </tr>\n",
       "  </tbody>\n",
       "</table>\n",
       "</div>"
      ],
      "text/plain": [
       "   trans_id      prod_upc  cust_id             trans_timestamp  trans_year  \\\n",
       "0  10300097  719638485153  1001019  2021-01-01 07:35:21.439873        2021   \n",
       "1  10300093   73201504044  1001015  2021-01-01 09:33:37.499660        2021   \n",
       "2  10300093  719638485153  1001015  2021-01-01 09:33:37.499660        2021   \n",
       "3  10300093  441530839394  1001015  2021-01-01 09:33:37.499660        2021   \n",
       "4  10300093  733426809698  1001015  2021-01-01 09:33:37.499660        2021   \n",
       "\n",
       "   trans_month  trans_day  trans_hour  trans_quantity  cust_age cust_state  \\\n",
       "0            1          1           1               1        20   New York   \n",
       "1            1          1           1               1        34   New York   \n",
       "2            1          1           1               1        34   New York   \n",
       "3            1          1           1               2        34   New York   \n",
       "4            1          1           1               1        34   New York   \n",
       "\n",
       "   prod_price       prod_title prod_category prod_animal_type prod_size  \\\n",
       "0       72.99         Cat Cave       bedding              cat       NaN   \n",
       "1       18.95   Purrfect Puree         treat              cat       NaN   \n",
       "2       72.99         Cat Cave       bedding              cat       NaN   \n",
       "3       28.45  Ball and String           toy              cat       NaN   \n",
       "4       18.95    Yum Fish-Dish          food              cat       NaN   \n",
       "\n",
       "   total_sales  \n",
       "0            0  \n",
       "1            0  \n",
       "2            0  \n",
       "3            0  \n",
       "4            0  "
      ]
     },
     "execution_count": 38,
     "metadata": {},
     "output_type": "execute_result"
    }
   ],
   "source": [
    "df_clean.head()"
   ]
  },
  {
   "cell_type": "code",
   "execution_count": 39,
   "id": "2ba95e75",
   "metadata": {},
   "outputs": [
    {
     "data": {
      "text/plain": [
       "array(['New York', 'New Jersey', 'Pennsylvania', 'Connecticut',\n",
       "       'South Carolina', 'Michigan', 'Georgia', 'Arizona', 'Alabama',\n",
       "       'Ohio', 'Florida', 'Maryland', 'Texas', 'California', 'Hawaii',\n",
       "       'Oklahoma', 'New Mexico', 'Indiana', 'Colorado', 'North Carolina',\n",
       "       'Tennessee', 'Washington', 'Oregon', 'Louisiana', 'Illinois',\n",
       "       'Utah', 'Vermont', 'Minnesota', 'Nevada', 'Virginia',\n",
       "       'West Virginia', 'Idaho', 'Montana', 'Wyoming', 'Arkansas',\n",
       "       'Massachusetts', 'Missouri', 'Kansas', 'Nebraska', 'Wisconsin',\n",
       "       'North Dakota', 'Mississippi', 'Kentucky', 'District of Columbia',\n",
       "       'Alaska', 'Rhode Island', 'Maine', 'Delaware', 'South Dakota',\n",
       "       'Iowa', 'New Hampshire'], dtype=object)"
      ]
     },
     "execution_count": 39,
     "metadata": {},
     "output_type": "execute_result"
    }
   ],
   "source": [
    "df_clean['cust_state'].unique()"
   ]
  },
  {
   "cell_type": "markdown",
   "id": "f0ea9db5",
   "metadata": {},
   "source": [
    "The geography data have been kept in the same format."
   ]
  },
  {
   "cell_type": "markdown",
   "id": "aa6acb6e",
   "metadata": {},
   "source": [
    "## Check for missing values"
   ]
  },
  {
   "cell_type": "code",
   "execution_count": 40,
   "id": "eb08dd8f",
   "metadata": {},
   "outputs": [
    {
     "name": "stdout",
     "output_type": "stream",
     "text": [
      "<class 'pandas.core.frame.DataFrame'>\n",
      "Int64Index: 38223 entries, 0 to 38623\n",
      "Data columns (total 17 columns):\n",
      " #   Column            Non-Null Count  Dtype  \n",
      "---  ------            --------------  -----  \n",
      " 0   trans_id          38223 non-null  int64  \n",
      " 1   prod_upc          38223 non-null  int64  \n",
      " 2   cust_id           38223 non-null  int64  \n",
      " 3   trans_timestamp   38223 non-null  object \n",
      " 4   trans_year        38223 non-null  int64  \n",
      " 5   trans_month       38223 non-null  int64  \n",
      " 6   trans_day         38223 non-null  int64  \n",
      " 7   trans_hour        38223 non-null  int64  \n",
      " 8   trans_quantity    38223 non-null  int64  \n",
      " 9   cust_age          38223 non-null  int64  \n",
      " 10  cust_state        38223 non-null  object \n",
      " 11  prod_price        38223 non-null  float64\n",
      " 12  prod_title        38223 non-null  object \n",
      " 13  prod_category     38223 non-null  object \n",
      " 14  prod_animal_type  38223 non-null  object \n",
      " 15  prod_size         7381 non-null   object \n",
      " 16  total_sales       38223 non-null  int64  \n",
      "dtypes: float64(1), int64(10), object(6)\n",
      "memory usage: 5.2+ MB\n"
     ]
    }
   ],
   "source": [
    "df_clean.info()"
   ]
  },
  {
   "cell_type": "markdown",
   "id": "3ad1c4de",
   "metadata": {},
   "source": [
    "The column 'prod_size' contains too much missing value(80%), which cannot be contribute to the whole analysis. Thus I delete this column."
   ]
  },
  {
   "cell_type": "code",
   "execution_count": 43,
   "id": "2b5c8ce6",
   "metadata": {},
   "outputs": [],
   "source": [
    "df_clean.drop('prod_size',axis=1,inplace=True)"
   ]
  },
  {
   "cell_type": "code",
   "execution_count": 45,
   "id": "fb5b4c65",
   "metadata": {
    "scrolled": true
   },
   "outputs": [
    {
     "name": "stdout",
     "output_type": "stream",
     "text": [
      "<class 'pandas.core.frame.DataFrame'>\n",
      "Int64Index: 38223 entries, 0 to 38623\n",
      "Data columns (total 16 columns):\n",
      " #   Column            Non-Null Count  Dtype  \n",
      "---  ------            --------------  -----  \n",
      " 0   trans_id          38223 non-null  int64  \n",
      " 1   prod_upc          38223 non-null  int64  \n",
      " 2   cust_id           38223 non-null  int64  \n",
      " 3   trans_timestamp   38223 non-null  object \n",
      " 4   trans_year        38223 non-null  int64  \n",
      " 5   trans_month       38223 non-null  int64  \n",
      " 6   trans_day         38223 non-null  int64  \n",
      " 7   trans_hour        38223 non-null  int64  \n",
      " 8   trans_quantity    38223 non-null  int64  \n",
      " 9   cust_age          38223 non-null  int64  \n",
      " 10  cust_state        38223 non-null  object \n",
      " 11  prod_price        38223 non-null  float64\n",
      " 12  prod_title        38223 non-null  object \n",
      " 13  prod_category     38223 non-null  object \n",
      " 14  prod_animal_type  38223 non-null  object \n",
      " 15  total_sales       38223 non-null  int64  \n",
      "dtypes: float64(1), int64(10), object(5)\n",
      "memory usage: 5.0+ MB\n"
     ]
    }
   ],
   "source": [
    "df_clean.info()"
   ]
  },
  {
   "cell_type": "markdown",
   "id": "207bace3",
   "metadata": {},
   "source": [
    "The data has been cleaned and can be used for explorative analysis."
   ]
  }
 ],
 "metadata": {
  "kernelspec": {
   "display_name": "Python 3.9.7 ('base')",
   "language": "python",
   "name": "python397jvsc74a57bd0222b7caaa39a477fd6fd5dfe5213feb325ab6a72343f3f99845b1f3374e0285a"
  },
  "language_info": {
   "codemirror_mode": {
    "name": "ipython",
    "version": 3
   },
   "file_extension": ".py",
   "mimetype": "text/x-python",
   "name": "python",
   "nbconvert_exporter": "python",
   "pygments_lexer": "ipython3",
   "version": "3.9.7"
  }
 },
 "nbformat": 4,
 "nbformat_minor": 5
}
